{
 "cells": [
  {
   "cell_type": "markdown",
   "id": "6263fe6c",
   "metadata": {},
   "source": [
    "# Stochastic Variational inference for Gaussian Process Regression"
   ]
  },
  {
   "cell_type": "code",
   "execution_count": 1,
   "id": "3661313e",
   "metadata": {},
   "outputs": [
    {
     "name": "stderr",
     "output_type": "stream",
     "text": [
      "WARNING:absl:No GPU/TPU found, falling back to CPU. (Set TF_CPP_MIN_LOG_LEVEL=0 and rerun for more info.)\n"
     ]
    }
   ],
   "source": [
    "import time\n",
    "from IPython.display import clear_output\n",
    "\n",
    "import jax\n",
    "import jax.numpy as jnp\n",
    "from jax.experimental import optimizers\n",
    "\n",
    "from gpjax.kernels import SquaredExponential\n",
    "from gpjax.mean_functions import Zero\n",
    "from gpjax.likelihoods import Gaussian\n",
    "from gpjax.models import SVGP\n",
    "import matplotlib.pyplot as plt\n",
    "key = jax.random.PRNGKey(10)"
   ]
  },
  {
   "cell_type": "markdown",
   "id": "3a6a708a",
   "metadata": {},
   "source": [
    "Let's create a simple dataset."
   ]
  },
  {
   "cell_type": "code",
   "execution_count": 2,
   "id": "a7439ace",
   "metadata": {},
   "outputs": [
    {
     "data": {
      "image/png": "[encoded data removed]",
      "text/plain": [
       "<Figure size 432x288 with 1 Axes>"
      ]
     },
     "metadata": {
      "needs_background": "light"
     },
     "output_type": "display_data"
    }
   ],
   "source": [
    "# create some dummy data\n",
    "input_dim = 1\n",
    "output_dim = 1\n",
    "num_data = 200\n",
    "num_test = 1000\n",
    "num_inducing = 30\n",
    "\n",
    "def func(X):\n",
    "    return jnp.sin(2*X)+ 0.3 * X\n",
    "X = jax.random.uniform(key, shape=(num_data, input_dim),minval=-3, maxval=3)\n",
    "Y = func(X)\n",
    "\n",
    "plt.scatter(X[:,0], Y[:,0])\n",
    "plt.show()"
   ]
  },
  {
   "cell_type": "markdown",
   "id": "cc9d578e",
   "metadata": {},
   "source": [
    "And some test inputs for plotting our GP."
   ]
  },
  {
   "cell_type": "code",
   "execution_count": 3,
   "id": "715edf56",
   "metadata": {
    "scrolled": true
   },
   "outputs": [],
   "source": [
    "Xtest = jax.random.uniform(key, shape=(num_test, input_dim),minval=-5, maxval=5)\n",
    "Xtest = jnp.sort(Xtest, 0)"
   ]
  },
  {
   "cell_type": "markdown",
   "id": "c29ce558",
   "metadata": {},
   "source": [
    "Create an instance of the SE kernel"
   ]
  },
  {
   "cell_type": "code",
   "execution_count": 4,
   "id": "3ef11be4",
   "metadata": {},
   "outputs": [
    {
     "name": "stdout",
     "output_type": "stream",
     "text": [
      "{'lengthscales': DeviceArray([1.], dtype=float64), 'variance': DeviceArray(1., dtype=float64)}\n"
     ]
    }
   ],
   "source": [
    "kernel = SquaredExponential()\n",
    "kernel_params = kernel.get_params()  # get the dictionary of parameters associated with kernel\n",
    "print(kernel_params)"
   ]
  },
  {
   "cell_type": "code",
   "execution_count": 5,
   "id": "2231c3d7",
   "metadata": {},
   "outputs": [],
   "source": [
    "mean_function = Zero(output_dim=output_dim)\n",
    "likelihood = Gaussian(variance=3.0)\n",
    "kernel = SquaredExponential(lengthscales=jnp.ones(input_dim, dtype=jnp.float64), variance=2.0)"
   ]
  },
  {
   "cell_type": "code",
   "execution_count": 6,
   "id": "e4ea3260",
   "metadata": {
    "scrolled": true
   },
   "outputs": [
    {
     "name": "stdout",
     "output_type": "stream",
     "text": [
      "dict_keys(['kernel', 'likelihood', 'mean_function', 'inducing_variable', 'q_mu', 'q_sqrt'])\n"
     ]
    }
   ],
   "source": [
    "inducing_variable = jax.random.uniform(key=key, shape=(num_inducing, input_dim))\n",
    "svgp = SVGP(kernel, likelihood, inducing_variable, mean_function, num_latent_gps=output_dim)\n",
    "svgp_params = svgp.get_params()\n",
    "print(svgp_params.keys())"
   ]
  },
  {
   "cell_type": "code",
   "execution_count": 7,
   "id": "9ce864e2",
   "metadata": {},
   "outputs": [
    {
     "name": "stdout",
     "output_type": "stream",
     "text": [
      "insidce single output cond\n",
      "(30, 30)\n",
      "(30, 1)\n",
      "Kmn\n",
      "(30, 1000)\n",
      "(1000,)\n",
      "base before A\n",
      "(30, 30)\n",
      "(1000,)\n"
     ]
    },
    {
     "data": {
      "image/png": "[encoded data removed]",
      "text/plain": [
       "<Figure size 864x432 with 1 Axes>"
      ]
     },
     "metadata": {
      "needs_background": "light"
     },
     "output_type": "display_data"
    }
   ],
   "source": [
    "def plot_model(params):\n",
    "    plt.figure(figsize=(12, 6))\n",
    "    plt.plot(X, Y, \"kx\", mew=2)\n",
    "    mean, var = svgp.predict_y(params, Xtest, full_cov=False)\n",
    "    plt.plot(Xtest, mean, \"C0\", lw=2)\n",
    "    plt.fill_between(\n",
    "        Xtest[:, 0],\n",
    "        mean[:, 0] - 1.96 * jnp.sqrt(var[:, 0]),\n",
    "        mean[:, 0] + 1.96 * jnp.sqrt(var[:, 0]),\n",
    "        color=\"C0\",\n",
    "        alpha=0.2,\n",
    "    )\n",
    "    plt.show()\n",
    "plot_model(svgp_params)"
   ]
  },
  {
   "cell_type": "code",
   "execution_count": 8,
   "id": "19327793",
   "metadata": {},
   "outputs": [],
   "source": [
    "learning_rate = 1e-3\n",
    "batch = (X, Y)\n",
    "num_epochs = 10000\n",
    "\n",
    "# Create optimizer\n",
    "opt_init, opt_update, get_params = optimizers.adam(learning_rate)"
   ]
  },
  {
   "cell_type": "code",
   "execution_count": 13,
   "id": "7406d3bf",
   "metadata": {},
   "outputs": [],
   "source": [
    "@jax.jit\n",
    "def compute_loss(params, batch):\n",
    "    X, Y = batch\n",
    "    return -svgp.elbo(params, X, Y)\n",
    "\n",
    "@jax.jit\n",
    "def train_step(step_i, opt_state, batch):\n",
    "    params = get_params(opt_state)\n",
    "    loss = compute_loss(params, batch)\n",
    "    grads = jax.grad(compute_loss, argnums=0)(params, batch)\n",
    "    return loss, opt_update(step_i, grads, opt_state)"
   ]
  },
  {
   "cell_type": "code",
   "execution_count": 14,
   "id": "6c8e51f4",
   "metadata": {},
   "outputs": [],
   "source": [
    "opt_state = opt_init(svgp_params)"
   ]
  },
  {
   "cell_type": "code",
   "execution_count": 15,
   "id": "1f49b3de",
   "metadata": {},
   "outputs": [
    {
     "name": "stdout",
     "output_type": "stream",
     "text": [
      "kl\n",
      "Traced<ShapedArray(float64[])>with<DynamicJaxprTrace(level=0/2)>\n",
      "insidce single output cond\n",
      "(30, 30)\n",
      "(30, 1)\n",
      "Kmn\n",
      "(30, 200)\n",
      "(200,)\n",
      "base before A\n",
      "(30, 30)\n",
      "(200,)\n",
      "f_mean\n",
      "(200, 1)\n",
      "(200, 1)\n",
      "var_exp\n",
      "(200,)\n",
      "()\n",
      "kl\n",
      "Traced<ShapedArray(float64[])>with<JVPTrace(level=2/2)>\n",
      "  with primal = Traced<ShapedArray(float64[])>with<DynamicJaxprTrace(level=0/2)>\n",
      "       tangent = Traced<ShapedArray(float64[]):JaxprTrace(level=1/2)>\n",
      "insidce single output cond\n",
      "(30, 30)\n",
      "(30, 1)\n",
      "Kmn\n",
      "(30, 200)\n",
      "(200,)\n",
      "base before A\n",
      "(30, 30)\n",
      "(200,)\n",
      "f_mean\n",
      "(200, 1)\n",
      "(200, 1)\n",
      "var_exp\n",
      "(200,)\n",
      "()\n",
      "kl\n",
      "Traced<ShapedArray(float64[])>with<DynamicJaxprTrace(level=0/2)>\n",
      "insidce single output cond\n",
      "(30, 30)\n",
      "(30, 1)\n",
      "Kmn\n",
      "(30, 200)\n",
      "(200,)\n",
      "base before A\n",
      "(30, 30)\n",
      "(200,)\n",
      "f_mean\n",
      "(200, 1)\n",
      "(200, 1)\n",
      "var_exp\n",
      "(200,)\n",
      "()\n",
      "kl\n",
      "Traced<ShapedArray(float64[])>with<JVPTrace(level=2/2)>\n",
      "  with primal = Traced<ShapedArray(float64[])>with<DynamicJaxprTrace(level=0/2)>\n",
      "       tangent = Traced<ShapedArray(float64[]):JaxprTrace(level=1/2)>\n",
      "insidce single output cond\n",
      "(30, 30)\n",
      "(30, 1)\n",
      "Kmn\n",
      "(30, 200)\n",
      "(200,)\n",
      "base before A\n",
      "(30, 30)\n",
      "(200,)\n",
      "f_mean\n",
      "(200, 1)\n",
      "(200, 1)\n",
      "var_exp\n",
      "(200,)\n",
      "()\n",
      "kl\n",
      "Traced<ShapedArray(float64[])>with<DynamicJaxprTrace(level=0/2)>\n",
      "insidce single output cond\n",
      "(30, 30)\n",
      "(30, 1)\n",
      "Kmn\n",
      "(30, 200)\n",
      "(200,)\n",
      "base before A\n",
      "(30, 30)\n",
      "(200,)\n",
      "f_mean\n",
      "(200, 1)\n",
      "(200, 1)\n",
      "var_exp\n",
      "(200,)\n",
      "()\n",
      "kl\n",
      "Traced<ShapedArray(float64[])>with<JVPTrace(level=2/2)>\n",
      "  with primal = Traced<ShapedArray(float64[])>with<DynamicJaxprTrace(level=0/2)>\n",
      "       tangent = Traced<ShapedArray(float64[]):JaxprTrace(level=1/2)>\n",
      "insidce single output cond\n",
      "(30, 30)\n",
      "(30, 1)\n",
      "Kmn\n",
      "(30, 200)\n",
      "(200,)\n",
      "base before A\n",
      "(30, 30)\n",
      "(200,)\n",
      "f_mean\n",
      "(200, 1)\n",
      "(200, 1)\n",
      "var_exp\n",
      "(200,)\n",
      "()\n"
     ]
    }
   ],
   "source": [
    "loss_history = []\n",
    "for i in range(num_epochs):\n",
    "#     x = sample_batch(size=128)\n",
    "    loss, opt_state = train_step(i, opt_state, batch)\n",
    "    params = get_params(opt_state)\n",
    "#     if params['kernel']['variance'] < 0:\n",
    "#         print('var is negarive')\n",
    "#     if jnp.any(params['kernel']['lengthscales'] < 0):\n",
    "#         print('lengthscales is negarive')\n",
    "#     if jnp.any(params['q_sqrt'] < 0):\n",
    "#         print('q_sqrt is negarive')\n",
    "    loss_history.append(loss.item())\n",
    "    \n",
    "#     if i % 200 == 0:\n",
    "#         clear_output(True)\n",
    "#         plt.figure(figsize=[16, 8])\n",
    "#         plt.subplot(1, 2, 1)\n",
    "#         plt.title(\"mean loss = %.3f\" % jnp.mean(jnp.array(loss_history[-32:])))\n",
    "#         plt.scatter(jnp.arange(len(loss_history)), loss_history)\n",
    "#         plt.grid()\n",
    "#         plt.show()"
   ]
  },
  {
   "cell_type": "code",
   "execution_count": 16,
   "id": "97fcb3fd",
   "metadata": {},
   "outputs": [
    {
     "data": {
      "image/png": "[encoded data removed]",
      "text/plain": [
       "<Figure size 864x432 with 1 Axes>"
      ]
     },
     "metadata": {
      "needs_background": "light"
     },
     "output_type": "display_data"
    },
    {
     "name": "stdout",
     "output_type": "stream",
     "text": [
      "{'lengthscales': DeviceArray([1.08538694], dtype=float64), 'variance': DeviceArray(1.36212459, dtype=float64)}\n"
     ]
    }
   ],
   "source": [
    "params = get_params(opt_state)\n",
    "plot_model(params)\n",
    "print(params['kernel'])"
   ]
  },
  {
   "cell_type": "code",
   "execution_count": null,
   "id": "471a08f3",
   "metadata": {},
   "outputs": [],
   "source": []
  }
 ],
 "metadata": {
  "kernelspec": {
   "display_name": "Python 3",
   "language": "python",
   "name": "python3"
  },
  "language_info": {
   "codemirror_mode": {
    "name": "ipython",
    "version": 3
   },
   "file_extension": ".py",
   "mimetype": "text/x-python",
   "name": "python",
   "nbconvert_exporter": "python",
   "pygments_lexer": "ipython3",
   "version": "3.8.6"
  }
 },
 "nbformat": 4,
 "nbformat_minor": 5
}
