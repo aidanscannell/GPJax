{
 "cells": [
  {
   "cell_type": "markdown",
   "id": "6263fe6c",
   "metadata": {},
   "source": [
    "# Stochastic Variational Inference for Gaussian Process (Binary) Classification"
   ]
  },
  {
   "cell_type": "code",
   "execution_count": 1,
   "id": "3661313e",
   "metadata": {},
   "outputs": [
    {
     "name": "stderr",
     "output_type": "stream",
     "text": [
      "WARNING:absl:No GPU/TPU found, falling back to CPU. (Set TF_CPP_MIN_LOG_LEVEL=0 and rerun for more info.)\n"
     ]
    }
   ],
   "source": [
    "from IPython.display import clear_output\n",
    "\n",
    "import jax\n",
    "import jax.numpy as jnp\n",
    "import matplotlib.pyplot as plt\n",
    "import numpy as np\n",
    "import time\n",
    "\n",
    "from jax.experimental import optimizers\n",
    "from gpjax.datasets import CustomDataset, NumpyLoader\n",
    "from gpjax.kernels import SquaredExponential\n",
    "from gpjax.parameters import build_constrain_params\n",
    "from gpjax.mean_functions import Zero\n",
    "from gpjax.likelihoods import Bernoulli\n",
    "from gpjax.models import SVGP\n",
    "from torch.utils.data import DataLoader\n",
    "\n",
    "key = jax.random.PRNGKey(10)"
   ]
  },
  {
   "cell_type": "markdown",
   "id": "3a6a708a",
   "metadata": {},
   "source": [
    "## Data Set\n",
    "Let's create a simple dataset."
   ]
  },
  {
   "cell_type": "code",
   "execution_count": 2,
   "id": "a7439ace",
   "metadata": {},
   "outputs": [
    {
     "data": {
      "image/png": "[encoded data removed]",
      "text/plain": [
       "<Figure size 432x288 with 1 Axes>"
      ]
     },
     "metadata": {
      "needs_background": "light"
     },
     "output_type": "display_data"
    }
   ],
   "source": [
    "input_dim = 1\n",
    "output_dim = 1\n",
    "num_data = 600\n",
    "num_test = 1000\n",
    "num_inducing = 50\n",
    "batch_size = 60\n",
    "\n",
    "def func(X):\n",
    "    a = np.where(X > 0, np.zeros(X.shape), np.ones(X.shape))\n",
    "    return np.where(X < 2, a, np.ones(X.shape))\n",
    "\n",
    "X = np.random.uniform(-3.0, 3.0, (num_data, input_dim))\n",
    "Y = func(X)\n",
    "\n",
    "plt.scatter(X[:,0], Y[:,0], marker=\"x\", color=\"k\")\n",
    "plt.show()"
   ]
  },
  {
   "cell_type": "markdown",
   "id": "cc9d578e",
   "metadata": {},
   "source": [
    "And some test inputs for plotting our GP."
   ]
  },
  {
   "cell_type": "code",
   "execution_count": 3,
   "id": "715edf56",
   "metadata": {
    "scrolled": true
   },
   "outputs": [],
   "source": [
    "Xtest = jnp.sort(jax.random.uniform(key, shape=(num_test, input_dim), minval=-5, maxval=5), 0)"
   ]
  },
  {
   "cell_type": "markdown",
   "id": "c29ce558",
   "metadata": {},
   "source": [
    "## Defining the SVGP\n",
    "Let's create a SVGP model with a squared exponential kernel, Bernoulli likelihood and zero mean function."
   ]
  },
  {
   "cell_type": "code",
   "execution_count": 4,
   "id": "2231c3d7",
   "metadata": {},
   "outputs": [],
   "source": [
    "kernel = SquaredExponential(lengthscales=jnp.ones(input_dim, dtype=jnp.float64), variance=2.0)\n",
    "likelihood = Bernoulli()\n",
    "mean_function = Zero(output_dim=output_dim)"
   ]
  },
  {
   "cell_type": "markdown",
   "id": "3727f02f",
   "metadata": {},
   "source": [
    "Let's initialise the inducing inputs and then use them to instantiate the SVGP class. If no `q_mu` or `q_sqrt` is specified then the SVGP class will automatically generate them."
   ]
  },
  {
   "cell_type": "code",
   "execution_count": 5,
   "id": "e4ea3260",
   "metadata": {
    "scrolled": true
   },
   "outputs": [],
   "source": [
    "inducing_variable = jax.random.uniform(key=key, shape=(num_inducing, input_dim)) * (X.max() - X.min()) + X.min()\n",
    "svgp = SVGP(kernel, likelihood, inducing_variable, mean_function, num_latent_gps=output_dim)"
   ]
  },
  {
   "cell_type": "markdown",
   "id": "eae96b9e",
   "metadata": {},
   "source": [
    "### Parameters\n",
    "Now that we have our SVGP class we would like to learn the parameters from observations. In order to do this, we must first get the dictionary of parameters associated with the model. "
   ]
  },
  {
   "cell_type": "code",
   "execution_count": 6,
   "id": "441572e8",
   "metadata": {
    "scrolled": true
   },
   "outputs": [
    {
     "name": "stdout",
     "output_type": "stream",
     "text": [
      "dict_keys(['kernel', 'likelihood', 'mean_function', 'inducing_variable', 'q_mu', 'q_sqrt'])\n"
     ]
    }
   ],
   "source": [
    "svgp_params = svgp.get_params()\n",
    "print(svgp_params.keys())"
   ]
  },
  {
   "cell_type": "markdown",
   "id": "f177cf46",
   "metadata": {},
   "source": [
    "We could alternatively define our own dictionary of parameters instead of using the SVGP class to handle parameter initialisation."
   ]
  },
  {
   "cell_type": "markdown",
   "id": "f0c51e93",
   "metadata": {},
   "source": [
    "### Parameter Transformations\n",
    "Many of the parameters we wish to optimise are strictly positive and we handle this via bijective transformations. GPJax requires a dictionary of bijective transformations (with the same pytree structure as the parameters dictionary)\n",
    "where each leaf contains the transformation (tfp.bijectives.Bijective) for the associated parameter.\n",
    "The `build_constrain_params` function should then be use to generate a function that maps each element of the parameter dictionary from the space of real numbers to its associated transformed space. The resulting function is used to build the objective function."
   ]
  },
  {
   "cell_type": "code",
   "execution_count": 7,
   "id": "7b017021",
   "metadata": {
    "scrolled": true
   },
   "outputs": [],
   "source": [
    "svgp_transforms = svgp.get_transforms()\n",
    "constrain_params = build_constrain_params(svgp_transforms)"
   ]
  },
  {
   "cell_type": "markdown",
   "id": "9a992c51",
   "metadata": {},
   "source": [
    "## Plotting\n",
    "Let's create a helper function for plotting the model for a given set of parameters."
   ]
  },
  {
   "cell_type": "code",
   "execution_count": 8,
   "id": "501f3a61",
   "metadata": {},
   "outputs": [
    {
     "name": "stdout",
     "output_type": "stream",
     "text": [
      "A\n",
      "(50, 1000)\n",
      "(1000,)\n",
      "A\n",
      "(50, 1000)\n",
      "(1000,)\n"
     ]
    },
    {
     "data": {
      "image/png": "[encoded data removed]",
      "text/plain": [
       "<Figure size 864x432 with 1 Axes>"
      ]
     },
     "metadata": {
      "needs_background": "light"
     },
     "output_type": "display_data"
    }
   ],
   "source": [
    "def plot_model(params):\n",
    "    params = constrain_params(params)\n",
    "    plt.figure(figsize=(12, 6))\n",
    "    plt.plot(X, Y, \"kx\", mew=2, alpha=0.5, label=\"Training observations\")\n",
    "    plt.plot(params[\"inducing_variable\"], jnp.zeros([num_inducing, input_dim]), \"|\", mew=2, alpha=0.5, label=\"Inducing inputs\")\n",
    "    mean, var = svgp.predict_y(params, Xtest, full_cov=False)\n",
    "    plt.plot(Xtest, mean, \"magenta\", lw=2, label=\"$\\Pr(y=1 \\mid x)$\")\n",
    "    f_mean, f_var = svgp.predict_f(params, Xtest, full_cov=False)\n",
    "    plt.plot(Xtest, f_mean, \"olive\", lw=2)\n",
    "    plt.fill_between(\n",
    "        Xtest[:, 0],\n",
    "        f_mean[:, 0] - 1.96 * jnp.sqrt(f_var[:, 0]),\n",
    "        f_mean[:, 0] + 1.96 * jnp.sqrt(f_var[:, 0]),\n",
    "        color=\"olive\",\n",
    "        alpha=0.2\n",
    "    )\n",
    "#     plt.fill_between(\n",
    "#         Xtest[:, 0],\n",
    "#         mean[:, 0] - 1.96 * jnp.sqrt(var[:, 0]),\n",
    "#         mean[:, 0] + 1.96 * jnp.sqrt(var[:, 0]),\n",
    "#         color=\"magenta\",\n",
    "#         alpha=0.2,\n",
    "#     )\n",
    "    plt.xlabel(\"x\")\n",
    "    plt.xlabel(\"y\")\n",
    "    plt.legend()\n",
    "    plt.show()\n",
    "plot_model(svgp_params)"
   ]
  },
  {
   "cell_type": "markdown",
   "id": "abc68a39",
   "metadata": {},
   "source": [
    "## Optimiser\n",
    "Now that we have defined our model, we wish to learn the optimal set of hyperparameters and variational parameters given a data set. This is achieved by maximising a lower bound on the marginal likelihood (Evidence Lower BOund ELBO).\n",
    "Let's use the Adam optimiser from JAX's experimental module."
   ]
  },
  {
   "cell_type": "code",
   "execution_count": 9,
   "id": "19327793",
   "metadata": {},
   "outputs": [],
   "source": [
    "learning_rate = 1e-3\n",
    "# learning_rate = 1e-2\n",
    "num_epochs = 600\n",
    "\n",
    "# Create optimizer\n",
    "opt_init, opt_update, get_params = optimizers.adam(learning_rate)"
   ]
  },
  {
   "cell_type": "markdown",
   "id": "f90543b0",
   "metadata": {},
   "source": [
    "Our objective function should accept the dictionary of parameters and a batch of data. Let's build our objective function by passing it the parameter transformations and the static arguments (just `num_data` in this case). We then use this objective to define a training step for the optimiser."
   ]
  },
  {
   "cell_type": "code",
   "execution_count": 10,
   "id": "7406d3bf",
   "metadata": {},
   "outputs": [],
   "source": [
    "elbo = svgp.build_elbo(constrain_params=constrain_params, num_data=num_data)\n",
    "\n",
    "def negative_elbo(params, batch):\n",
    "    return - elbo(params, batch)\n",
    "\n",
    "@jax.jit\n",
    "def train_step(step_i, opt_state, batch):\n",
    "    params = get_params(opt_state)\n",
    "    loss, grads = jax.value_and_grad(negative_elbo, argnums=0)(params, batch)\n",
    "    return loss, opt_update(step_i, grads, opt_state)"
   ]
  },
  {
   "cell_type": "markdown",
   "id": "5c3de953",
   "metadata": {},
   "source": [
    "We use PyTorch's Dataset and DataLoader with a few alterations to make it work with NumPy. The NumpyLoader class enables us to easily setup a dateset for iterating over batches."
   ]
  },
  {
   "cell_type": "code",
   "execution_count": 11,
   "id": "4a6acccc",
   "metadata": {},
   "outputs": [],
   "source": [
    "data = (X, Y)\n",
    "training_data = CustomDataset(X, Y)\n",
    "train_dataloader = NumpyLoader(training_data, batch_size=batch_size, shuffle=True)"
   ]
  },
  {
   "cell_type": "markdown",
   "id": "08749fe0",
   "metadata": {},
   "source": [
    "Let's run the optimiser and plot the mean ELBO every 20 epochs."
   ]
  },
  {
   "cell_type": "code",
   "execution_count": 12,
   "id": "1f49b3de",
   "metadata": {},
   "outputs": [
    {
     "name": "stdout",
     "output_type": "stream",
     "text": [
      "A\n",
      "(50, 60)\n",
      "(60,)\n",
      "A\n",
      "(50, 60)\n",
      "(60,)\n",
      "A\n",
      "(50, 60)\n",
      "(60,)\n",
      "Iteration duration:  6.873532772064209\n",
      "Iteration duration:  0.17866277694702148\n",
      "Iteration duration:  0.1894090175628662\n",
      "Iteration duration:  0.18157196044921875\n",
      "Iteration duration:  0.18250012397766113\n",
      "Iteration duration:  0.22605013847351074\n",
      "Iteration duration:  0.24043798446655273\n",
      "Iteration duration:  0.2410438060760498\n",
      "Iteration duration:  0.22125601768493652\n",
      "Iteration duration:  0.20139718055725098\n",
      "Iteration duration:  0.18582606315612793\n",
      "Iteration duration:  0.18938612937927246\n",
      "Iteration duration:  0.18408989906311035\n",
      "Iteration duration:  0.179779052734375\n",
      "Iteration duration:  0.1929488182067871\n",
      "Iteration duration:  0.1857452392578125\n",
      "Iteration duration:  0.18637704849243164\n",
      "Iteration duration:  0.21258091926574707\n",
      "Iteration duration:  0.22363495826721191\n",
      "Iteration duration:  0.21599268913269043\n",
      "Iteration duration:  0.2235851287841797\n",
      "Iteration duration:  0.2235581874847412\n",
      "Iteration duration:  0.21969914436340332\n",
      "Iteration duration:  0.2167360782623291\n",
      "Iteration duration:  0.2198948860168457\n",
      "Iteration duration:  0.22438502311706543\n",
      "Iteration duration:  0.23035407066345215\n",
      "Iteration duration:  0.2188122272491455\n",
      "Iteration duration:  0.21925902366638184\n",
      "Iteration duration:  0.21392107009887695\n"
     ]
    }
   ],
   "source": [
    "opt_state = opt_init(svgp_params)\n",
    "loss_history = []\n",
    "t = time.time()\n",
    "for epoch in range(num_epochs):\n",
    "    for batch in train_dataloader:  # iterate over batches\n",
    "        loss, opt_state = train_step(epoch, opt_state, batch)\n",
    "        params = get_params(opt_state)\n",
    "        loss_history.append(loss.item())\n",
    "\n",
    "    if epoch % 20 == 0:\n",
    "        duration = time.time() - t\n",
    "        print(\"Iteration duration: \", duration)\n",
    "        t = time.time()\n",
    "\n",
    "#         clear_output(True)\n",
    "#         plt.figure(figsize=[16, 8])\n",
    "#         plt.subplot(1, 2, 1)\n",
    "#         plt.title(\"Mean ELBO = %.3f\" % -jnp.mean(jnp.array(loss_history[-32:])))\n",
    "#         plt.scatter(jnp.arange(len(loss_history)), jnp.array(loss_history)*-1.0)\n",
    "#         plt.grid()\n",
    "#         plt.show()"
   ]
  },
  {
   "cell_type": "markdown",
   "id": "d1a7520d",
   "metadata": {},
   "source": [
    "Let's plot the model with the optimised parameters."
   ]
  },
  {
   "cell_type": "code",
   "execution_count": 13,
   "id": "97fcb3fd",
   "metadata": {},
   "outputs": [
    {
     "name": "stdout",
     "output_type": "stream",
     "text": [
      "A\n",
      "(50, 1000)\n",
      "(1000,)\n",
      "A\n",
      "(50, 1000)\n",
      "(1000,)\n"
     ]
    },
    {
     "data": {
      "image/png": "[encoded data removed]",
      "text/plain": [
       "<Figure size 864x432 with 1 Axes>"
      ]
     },
     "metadata": {
      "needs_background": "light"
     },
     "output_type": "display_data"
    }
   ],
   "source": [
    "params = get_params(opt_state)\n",
    "plot_model(params)"
   ]
  },
  {
   "cell_type": "code",
   "execution_count": null,
   "id": "8864d56f",
   "metadata": {},
   "outputs": [],
   "source": []
  }
 ],
 "metadata": {
  "kernelspec": {
   "display_name": "Python 3",
   "language": "python",
   "name": "python3"
  },
  "language_info": {
   "codemirror_mode": {
    "name": "ipython",
    "version": 3
   },
   "file_extension": ".py",
   "mimetype": "text/x-python",
   "name": "python",
   "nbconvert_exporter": "python",
   "pygments_lexer": "ipython3",
   "version": "3.8.6"
  }
 },
 "nbformat": 4,
 "nbformat_minor": 5
}
